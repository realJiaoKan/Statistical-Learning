{
 "cells": [
  {
   "cell_type": "code",
   "execution_count": 148,
   "id": "bb177750-f613-45ce-bb43-e3d46d7d1bfa",
   "metadata": {},
   "outputs": [],
   "source": [
    "import numpy as np\n",
    "import pandas as pd\n",
    "import scipy\n",
    "import matplotlib.pyplot as plt\n",
    "from matplotlib.pyplot import subplots\n",
    "import statsmodels.api as sm\n",
    "from statsmodels.api import add_constant\n",
    "from ISLP import load_data\n",
    "from ISLP.models import (\n",
    "    ModelSpec,\n",
    "    summarize,\n",
    ")\n",
    "from ISLP import confusion_table\n",
    "from sklearn.model_selection import train_test_split\n",
    "from sklearn.linear_model import LogisticRegression\n",
    "import matplotlib.cm as cm\n",
    "from sklearn.metrics import roc_curve, roc_auc_score"
   ]
  },
  {
   "cell_type": "code",
   "execution_count": 149,
   "id": "e7e61ebf-c65c-4a62-ac11-4bc9c627ae23",
   "metadata": {},
   "outputs": [
    {
     "name": "stdout",
     "output_type": "stream",
     "text": [
      "(1250, 9)\n"
     ]
    },
    {
     "data": {
      "text/html": [
       "<div>\n",
       "<style scoped>\n",
       "    .dataframe tbody tr th:only-of-type {\n",
       "        vertical-align: middle;\n",
       "    }\n",
       "\n",
       "    .dataframe tbody tr th {\n",
       "        vertical-align: top;\n",
       "    }\n",
       "\n",
       "    .dataframe thead th {\n",
       "        text-align: right;\n",
       "    }\n",
       "</style>\n",
       "<table border=\"1\" class=\"dataframe\">\n",
       "  <thead>\n",
       "    <tr style=\"text-align: right;\">\n",
       "      <th></th>\n",
       "      <th>Year</th>\n",
       "      <th>Lag1</th>\n",
       "      <th>Lag2</th>\n",
       "      <th>Lag3</th>\n",
       "      <th>Lag4</th>\n",
       "      <th>Lag5</th>\n",
       "      <th>Volume</th>\n",
       "      <th>Today</th>\n",
       "      <th>Direction</th>\n",
       "    </tr>\n",
       "  </thead>\n",
       "  <tbody>\n",
       "    <tr>\n",
       "      <th>0</th>\n",
       "      <td>2001</td>\n",
       "      <td>0.381</td>\n",
       "      <td>-0.192</td>\n",
       "      <td>-2.624</td>\n",
       "      <td>-1.055</td>\n",
       "      <td>5.010</td>\n",
       "      <td>1.19130</td>\n",
       "      <td>0.959</td>\n",
       "      <td>Up</td>\n",
       "    </tr>\n",
       "    <tr>\n",
       "      <th>1</th>\n",
       "      <td>2001</td>\n",
       "      <td>0.959</td>\n",
       "      <td>0.381</td>\n",
       "      <td>-0.192</td>\n",
       "      <td>-2.624</td>\n",
       "      <td>-1.055</td>\n",
       "      <td>1.29650</td>\n",
       "      <td>1.032</td>\n",
       "      <td>Up</td>\n",
       "    </tr>\n",
       "    <tr>\n",
       "      <th>2</th>\n",
       "      <td>2001</td>\n",
       "      <td>1.032</td>\n",
       "      <td>0.959</td>\n",
       "      <td>0.381</td>\n",
       "      <td>-0.192</td>\n",
       "      <td>-2.624</td>\n",
       "      <td>1.41120</td>\n",
       "      <td>-0.623</td>\n",
       "      <td>Down</td>\n",
       "    </tr>\n",
       "    <tr>\n",
       "      <th>3</th>\n",
       "      <td>2001</td>\n",
       "      <td>-0.623</td>\n",
       "      <td>1.032</td>\n",
       "      <td>0.959</td>\n",
       "      <td>0.381</td>\n",
       "      <td>-0.192</td>\n",
       "      <td>1.27600</td>\n",
       "      <td>0.614</td>\n",
       "      <td>Up</td>\n",
       "    </tr>\n",
       "    <tr>\n",
       "      <th>4</th>\n",
       "      <td>2001</td>\n",
       "      <td>0.614</td>\n",
       "      <td>-0.623</td>\n",
       "      <td>1.032</td>\n",
       "      <td>0.959</td>\n",
       "      <td>0.381</td>\n",
       "      <td>1.20570</td>\n",
       "      <td>0.213</td>\n",
       "      <td>Up</td>\n",
       "    </tr>\n",
       "    <tr>\n",
       "      <th>...</th>\n",
       "      <td>...</td>\n",
       "      <td>...</td>\n",
       "      <td>...</td>\n",
       "      <td>...</td>\n",
       "      <td>...</td>\n",
       "      <td>...</td>\n",
       "      <td>...</td>\n",
       "      <td>...</td>\n",
       "      <td>...</td>\n",
       "    </tr>\n",
       "    <tr>\n",
       "      <th>1245</th>\n",
       "      <td>2005</td>\n",
       "      <td>0.422</td>\n",
       "      <td>0.252</td>\n",
       "      <td>-0.024</td>\n",
       "      <td>-0.584</td>\n",
       "      <td>-0.285</td>\n",
       "      <td>1.88850</td>\n",
       "      <td>0.043</td>\n",
       "      <td>Up</td>\n",
       "    </tr>\n",
       "    <tr>\n",
       "      <th>1246</th>\n",
       "      <td>2005</td>\n",
       "      <td>0.043</td>\n",
       "      <td>0.422</td>\n",
       "      <td>0.252</td>\n",
       "      <td>-0.024</td>\n",
       "      <td>-0.584</td>\n",
       "      <td>1.28581</td>\n",
       "      <td>-0.955</td>\n",
       "      <td>Down</td>\n",
       "    </tr>\n",
       "    <tr>\n",
       "      <th>1247</th>\n",
       "      <td>2005</td>\n",
       "      <td>-0.955</td>\n",
       "      <td>0.043</td>\n",
       "      <td>0.422</td>\n",
       "      <td>0.252</td>\n",
       "      <td>-0.024</td>\n",
       "      <td>1.54047</td>\n",
       "      <td>0.130</td>\n",
       "      <td>Up</td>\n",
       "    </tr>\n",
       "    <tr>\n",
       "      <th>1248</th>\n",
       "      <td>2005</td>\n",
       "      <td>0.130</td>\n",
       "      <td>-0.955</td>\n",
       "      <td>0.043</td>\n",
       "      <td>0.422</td>\n",
       "      <td>0.252</td>\n",
       "      <td>1.42236</td>\n",
       "      <td>-0.298</td>\n",
       "      <td>Down</td>\n",
       "    </tr>\n",
       "    <tr>\n",
       "      <th>1249</th>\n",
       "      <td>2005</td>\n",
       "      <td>-0.298</td>\n",
       "      <td>0.130</td>\n",
       "      <td>-0.955</td>\n",
       "      <td>0.043</td>\n",
       "      <td>0.422</td>\n",
       "      <td>1.38254</td>\n",
       "      <td>-0.489</td>\n",
       "      <td>Down</td>\n",
       "    </tr>\n",
       "  </tbody>\n",
       "</table>\n",
       "<p>1250 rows × 9 columns</p>\n",
       "</div>"
      ],
      "text/plain": [
       "      Year   Lag1   Lag2   Lag3   Lag4   Lag5   Volume  Today Direction\n",
       "0     2001  0.381 -0.192 -2.624 -1.055  5.010  1.19130  0.959        Up\n",
       "1     2001  0.959  0.381 -0.192 -2.624 -1.055  1.29650  1.032        Up\n",
       "2     2001  1.032  0.959  0.381 -0.192 -2.624  1.41120 -0.623      Down\n",
       "3     2001 -0.623  1.032  0.959  0.381 -0.192  1.27600  0.614        Up\n",
       "4     2001  0.614 -0.623  1.032  0.959  0.381  1.20570  0.213        Up\n",
       "...    ...    ...    ...    ...    ...    ...      ...    ...       ...\n",
       "1245  2005  0.422  0.252 -0.024 -0.584 -0.285  1.88850  0.043        Up\n",
       "1246  2005  0.043  0.422  0.252 -0.024 -0.584  1.28581 -0.955      Down\n",
       "1247  2005 -0.955  0.043  0.422  0.252 -0.024  1.54047  0.130        Up\n",
       "1248  2005  0.130 -0.955  0.043  0.422  0.252  1.42236 -0.298      Down\n",
       "1249  2005 -0.298  0.130 -0.955  0.043  0.422  1.38254 -0.489      Down\n",
       "\n",
       "[1250 rows x 9 columns]"
      ]
     },
     "execution_count": 149,
     "metadata": {},
     "output_type": "execute_result"
    }
   ],
   "source": [
    "stock_market_data = load_data(\"Smarket\")\n",
    "print(stock_market_data.shape)\n",
    "stock_market_data"
   ]
  },
  {
   "cell_type": "markdown",
   "id": "00b49fd2-f49b-4541-8db8-cba73acdd3fb",
   "metadata": {},
   "source": [
    "## 逻辑回归\n",
    "\n",
    "我们将拟合一个逻辑回归模型，以 `Lag1` 到 `Lag5` 和 `Volume` 为预测变量来预测 `Direction`。可以使用 `sm.GLM()` 函数拟合广义线性模型（generalized linear models），其中包含逻辑回归。另外，`sm.Logit()` 函数也可以直接拟合逻辑回归模型。`sm.GLM()` 的语法与 `sm.OLS()` 类似，但需要添加参数 `family=sm.families.Binomial()`，以指示 `statsmodels` 执行逻辑回归，而不是其他类型的广义线性模型。"
   ]
  },
  {
   "cell_type": "code",
   "execution_count": 150,
   "id": "1114f084-b0eb-46d2-bd12-e4a0d8500820",
   "metadata": {},
   "outputs": [],
   "source": [
    "x = stock_market_data[\"Lag1\"]\n",
    "x = add_constant(x)\n",
    "\n",
    "y = stock_market_data.Direction == \"Up\"\n",
    "\n",
    "glm = sm.GLM(y, x, family=sm.families.Binomial())\n",
    "results = glm.fit()"
   ]
  },
  {
   "cell_type": "markdown",
   "id": "fd51adb4-43fa-4203-afa8-0ac9f7b0d790",
   "metadata": {},
   "source": [
    "#### **理解贝塔系数（Coefficients）**\n",
    "\n",
    "拟合模型后，我们得到系数（或称 **betas**），这些系数指示每个预测变量与市场上升的 **对数几率（log-odds）** 之间的关系。逻辑回归模型的表达式如下：\n",
    "\n",
    "$$\n",
    "\\log\\left(\\frac{p}{1 - p}\\right) = \\beta_0 + \\beta_1 X_1 + \\beta_2 X_2 + \\dots + \\beta_k X_k\n",
    "$$\n",
    "\n",
    "其中：\n",
    "- $p$ 表示市场上升的概率；\n",
    "- $\\frac{p}{1 - p}$ 表示市场上升的 **几率（odds）**；\n",
    "- $\\log\\left(\\frac{p}{1 - p}\\right)$ 是市场上升的 **对数几率（log-odds）**。\n",
    "\n",
    "每个系数 $\\beta_i$ 表示在保持其他预测变量不变的情况下，预测变量 $X_i$ 增加一个单位时，市场上升的对数几率的 **变化**。"
   ]
  },
  {
   "cell_type": "code",
   "execution_count": 151,
   "id": "589899ee-ee68-4af9-bcb8-a71fac1d0a98",
   "metadata": {},
   "outputs": [
    {
     "data": {
      "text/html": [
       "<div>\n",
       "<style scoped>\n",
       "    .dataframe tbody tr th:only-of-type {\n",
       "        vertical-align: middle;\n",
       "    }\n",
       "\n",
       "    .dataframe tbody tr th {\n",
       "        vertical-align: top;\n",
       "    }\n",
       "\n",
       "    .dataframe thead th {\n",
       "        text-align: right;\n",
       "    }\n",
       "</style>\n",
       "<table border=\"1\" class=\"dataframe\">\n",
       "  <thead>\n",
       "    <tr style=\"text-align: right;\">\n",
       "      <th></th>\n",
       "      <th>coef</th>\n",
       "      <th>std err</th>\n",
       "      <th>z</th>\n",
       "      <th>P&gt;|z|</th>\n",
       "    </tr>\n",
       "  </thead>\n",
       "  <tbody>\n",
       "    <tr>\n",
       "      <th>const</th>\n",
       "      <td>0.0740</td>\n",
       "      <td>0.057</td>\n",
       "      <td>1.306</td>\n",
       "      <td>0.191</td>\n",
       "    </tr>\n",
       "    <tr>\n",
       "      <th>Lag1</th>\n",
       "      <td>-0.0702</td>\n",
       "      <td>0.050</td>\n",
       "      <td>-1.404</td>\n",
       "      <td>0.160</td>\n",
       "    </tr>\n",
       "  </tbody>\n",
       "</table>\n",
       "</div>"
      ],
      "text/plain": [
       "         coef  std err      z  P>|z|\n",
       "const  0.0740    0.057  1.306  0.191\n",
       "Lag1  -0.0702    0.050 -1.404  0.160"
      ]
     },
     "execution_count": 151,
     "metadata": {},
     "output_type": "execute_result"
    }
   ],
   "source": [
    "summarize(results)"
   ]
  },
  {
   "cell_type": "markdown",
   "id": "13dec7e3-3953-42a1-8fe9-6b5cbdea93a3",
   "metadata": {},
   "source": [
    "在此模型中，最小的p值对应于预测变量 `Lag1`。该变量的负系数表明，如果市场前一天获得了正回报，则当天上升的可能性较低。然而，p值为 `0.15`，表明这一结果在统计上并不显著，因此没有强有力的证据表明 `Lag1` 与 `Direction` 之间存在真实关系。我们可以使用拟合结果的 `params` 属性来获取模型的系数及其对应的p值。"
   ]
  },
  {
   "cell_type": "code",
   "execution_count": 152,
   "id": "eadd7977-80c6-4ca9-8206-7211631b7055",
   "metadata": {},
   "outputs": [
    {
     "name": "stdout",
     "output_type": "stream",
     "text": [
      "beta_hat values\n",
      "-----------\n",
      " const    0.074011\n",
      "Lag1    -0.070231\n",
      "dtype: float64\n",
      "\n",
      "p-values\n",
      "--------\n",
      " const    0.191418\n",
      "Lag1     0.160424\n",
      "dtype: float64\n"
     ]
    }
   ],
   "source": [
    "print(\n",
    "    \"beta_hat values\\n\" \"-----------\\n\",\n",
    "    results.params,\n",
    ")\n",
    "print(\n",
    "    \"\\n\" \"p-values\\n\" \"--------\\n\",\n",
    "    results.pvalues,\n",
    ")\n",
    "\n",
    "beta_hat = results.params.values"
   ]
  },
  {
   "cell_type": "markdown",
   "id": "c532c75e-f2d4-472e-b3d4-c918d4c70380",
   "metadata": {},
   "source": [
    "#### **解释系数**\n",
    "\n",
    "正系数（$\\beta_i > 0$）表示，当预测变量 $X_i$ 增加时，市场上升的对数几率（log-odds）以及上升的概率都会增加。负系数则表示，当 $X_i$ 增加时，市场上升的概率会降低。\n",
    "\n",
    "我们可以使用 `predict()` 方法来估计市场上升的概率，基于当前的预测变量进行预测。如果没有提供新数据，则会对训练集进行概率预测。此外，还可以使用 `exog` 参数传入设计矩阵来预测新数据的概率。"
   ]
  },
  {
   "cell_type": "code",
   "execution_count": 153,
   "id": "baefe0c5-ebb2-42e5-8ed3-5e60f71ce578",
   "metadata": {},
   "outputs": [
    {
     "name": "stdout",
     "output_type": "stream",
     "text": [
      "[0.51181103 0.50166485 0.50038315 0.5294072  0.50772166 0.51475864]\n",
      "[0.51181103 0.50166485 0.50038315 0.5294072  0.50772166 0.51475864]\n"
     ]
    }
   ],
   "source": [
    "func_lr = 1 / (1 + np.exp(-x @ beta_hat))\n",
    "print(func_lr.values[:6])\n",
    "\n",
    "probs = results.predict()\n",
    "print(probs[:6])"
   ]
  },
  {
   "cell_type": "markdown",
   "id": "677b6534-038e-4c03-bbbc-f1fd0b9151fa",
   "metadata": {},
   "source": [
    "要预测市场在某一天是会上涨还是下跌，我们需要将预测的概率转换为分类标签（Up或Down）。以下命令通过检查市场上涨的预测概率是否高于或低于0.5来创建分类预测。"
   ]
  },
  {
   "cell_type": "code",
   "execution_count": 154,
   "id": "b1aebf98-8a1e-4837-b17d-ae6748330307",
   "metadata": {},
   "outputs": [
    {
     "data": {
      "image/png": "[encoded data removed]",
      "text/plain": [
       "<Figure size 640x480 with 1 Axes>"
      ]
     },
     "metadata": {},
     "output_type": "display_data"
    }
   ],
   "source": [
    "labels = np.array([\"Down\"] * 1250)\n",
    "threshold = 0.5\n",
    "labels[probs > threshold] = \"Up\"\n",
    "\n",
    "plt.scatter(x[\"Lag1\"], y, c=\"b\", s=10)\n",
    "plt.plot(x[\"Lag1\"], probs, \"g\")\n",
    "plt.scatter(x[\"Lag1\"], labels == \"Up\", c=\"r\", s=5)\n",
    "plt.axhline(y=threshold, color=\"r\", linestyle=\"-\")\n",
    "plt.show()"
   ]
  },
  {
   "cell_type": "code",
   "execution_count": 155,
   "id": "9e21b3fb-2f37-472e-a3d5-ebfaf5a742ff",
   "metadata": {},
   "outputs": [
    {
     "name": "stderr",
     "output_type": "stream",
     "text": [
      "/tmp/ipykernel_188224/572886167.py:5: MatplotlibDeprecationWarning: The get_cmap function was deprecated in Matplotlib 3.7 and will be removed in 3.11. Use ``matplotlib.colormaps[name]`` or ``matplotlib.colormaps.get_cmap()`` or ``pyplot.get_cmap()`` instead.\n",
      "  cmap = cm.get_cmap(\"viridis\", num_threshold)\n"
     ]
    },
    {
     "data": {
      "image/png": "[encoded data removed]",
      "text/plain": [
       "<Figure size 640x480 with 1 Axes>"
      ]
     },
     "metadata": {},
     "output_type": "display_data"
    }
   ],
   "source": [
    "thresholds = np.asarray([0.45, 0.5, 0.55])\n",
    "num_threshold = len(thresholds)\n",
    "\n",
    "\n",
    "cmap = cm.get_cmap(\"viridis\", num_threshold)\n",
    "colors = [cmap(i) for i in range(num_threshold)]\n",
    "marker_scale = 10\n",
    "\n",
    "plt.scatter(x[\"Lag1\"], y, c=\"b\", s=marker_scale * (num_threshold + 1), alpha=0.2)\n",
    "plt.plot(x[\"Lag1\"], probs, \"g\")\n",
    "\n",
    "for i, threshold in enumerate(thresholds):\n",
    "    labels = np.array([\"Down\"] * 1250)\n",
    "    labels[probs > threshold] = \"Up\"\n",
    "\n",
    "    markersize = marker_scale * (num_threshold - i)\n",
    "    plt.scatter(\n",
    "        x[\"Lag1\"],\n",
    "        labels == \"Up\",\n",
    "        color=colors[i],\n",
    "        s=markersize,\n",
    "        label=f\"Threshold {threshold:.2f}\",\n",
    "        alpha=0.5,\n",
    "    )\n",
    "    plt.axhline(y=threshold, color=colors[i], linestyle=\"--\")"
   ]
  },
  {
   "cell_type": "markdown",
   "id": "92535bd7-cb8f-4d5c-b871-46b5ce0f6762",
   "metadata": {},
   "source": [
    "#### **系数的指数化（几率比）**\n",
    "\n",
    "为了使系数更易于解释，我们可以对它们进行指数化，得到 **几率比（odds ratios）**：\n",
    "\n",
    "$$\n",
    "\\text{几率比} = e^{\\beta_i}\n",
    "$$\n",
    "\n",
    "- 如果 $e^{\\beta_i} > 1$，则增加 $X_i$ **提高** 市场上升的几率。\n",
    "- 如果 $e^{\\beta_i} < 1$，则增加 $X_i$ **降低** 市场上升的几率。\n",
    "\n",
    "此变换可以更直观地解释每个预测变量对市场上升可能性的影响。"
   ]
  },
  {
   "cell_type": "code",
   "execution_count": 156,
   "id": "70eb2920-5e1d-48a2-8ceb-a14730f5f27d",
   "metadata": {},
   "outputs": [
    {
     "name": "stdout",
     "output_type": "stream",
     "text": [
      "beta_hat_Lag1 = -0.07023089930744526\n",
      "OR: exp(beta_hat_Lag1) = 0.9321785556718034\n"
     ]
    }
   ],
   "source": [
    "print(f\"beta_hat_Lag1 = {beta_hat[1]}\")\n",
    "print(f\"OR: exp(beta_hat_Lag1) = {np.exp(beta_hat[1])}\")"
   ]
  },
  {
   "cell_type": "markdown",
   "id": "9abc2947-6ca6-42ac-861a-21603866976b",
   "metadata": {},
   "source": [
    "`ISLP` 包中的 `confusion_table()` 函数通过显示正确或错误分类的观测数量来总结预测结果。该函数基于 `sklearn.metrics` 中的类似功能进行修改，将矩阵转置并添加行和列标签。此函数的第一个参数为预测标签，第二个参数为真实标签。"
   ]
  },
  {
   "cell_type": "code",
   "execution_count": 157,
   "id": "77346d61-d559-42e1-bd33-8af32e1a3c33",
   "metadata": {},
   "outputs": [
    {
     "data": {
      "text/html": [
       "<div>\n",
       "<style scoped>\n",
       "    .dataframe tbody tr th:only-of-type {\n",
       "        vertical-align: middle;\n",
       "    }\n",
       "\n",
       "    .dataframe tbody tr th {\n",
       "        vertical-align: top;\n",
       "    }\n",
       "\n",
       "    .dataframe thead th {\n",
       "        text-align: right;\n",
       "    }\n",
       "</style>\n",
       "<table border=\"1\" class=\"dataframe\">\n",
       "  <thead>\n",
       "    <tr style=\"text-align: right;\">\n",
       "      <th>Truth</th>\n",
       "      <th>Down</th>\n",
       "      <th>Up</th>\n",
       "    </tr>\n",
       "    <tr>\n",
       "      <th>Predicted</th>\n",
       "      <th></th>\n",
       "      <th></th>\n",
       "    </tr>\n",
       "  </thead>\n",
       "  <tbody>\n",
       "    <tr>\n",
       "      <th>Down</th>\n",
       "      <td>145</td>\n",
       "      <td>141</td>\n",
       "    </tr>\n",
       "    <tr>\n",
       "      <th>Up</th>\n",
       "      <td>457</td>\n",
       "      <td>507</td>\n",
       "    </tr>\n",
       "  </tbody>\n",
       "</table>\n",
       "</div>"
      ],
      "text/plain": [
       "Truth      Down   Up\n",
       "Predicted           \n",
       "Down        145  141\n",
       "Up          457  507"
      ]
     },
     "execution_count": 157,
     "metadata": {},
     "output_type": "execute_result"
    }
   ],
   "source": [
    "allvars = stock_market_data.columns.drop([\"Today\", \"Direction\", \"Year\"])\n",
    "\n",
    "design = ModelSpec(allvars)\n",
    "x = design.fit_transform(stock_market_data)\n",
    "\n",
    "y = stock_market_data.Direction == \"Up\"\n",
    "\n",
    "glm = sm.GLM(y, x, family=sm.families.Binomial())\n",
    "results = glm.fit()\n",
    "\n",
    "probs = results.predict()\n",
    "\n",
    "labels = np.array([\"Down\"] * 1250)\n",
    "labels[probs > 0.5] = \"Up\"\n",
    "\n",
    "confusion_table(labels, stock_market_data.Direction)"
   ]
  },
  {
   "cell_type": "markdown",
   "id": "23b19c66-b451-45b2-b954-fe1aedfc924d",
   "metadata": {},
   "source": [
    "混淆矩阵的对角线元素表示正确的预测，而非对角线元素表示错误。在我们的模型中，市场在 `507` 天被正确预测为上涨，在 `145` 天被正确预测为下跌，总共 `652` 个正确预测。准确率可以通过 `np.mean()` 函数来计算。此处，逻辑回归模型对市场走势的预测准确率为 `52.2%`。"
   ]
  },
  {
   "cell_type": "code",
   "execution_count": 158,
   "id": "3a2d3ec0-652e-4282-9dda-9b01c591b4a1",
   "metadata": {},
   "outputs": [
    {
     "data": {
      "text/plain": [
       "(0.5216, 0.5216)"
      ]
     },
     "execution_count": 158,
     "metadata": {},
     "output_type": "execute_result"
    }
   ],
   "source": [
    "(507 + 145) / 1250, np.mean(labels == stock_market_data.Direction)"
   ]
  },
  {
   "cell_type": "markdown",
   "id": "4a9172a9-48e3-4db0-9cb0-acb7affc06ae",
   "metadata": {},
   "source": [
    "乍一看，逻辑回归模型的表现似乎比随机猜测略好。然而，这一结果具有误导性，因为模型在相同的 `1,250` 个观测数据上进行了训练和测试，导致 `47.8%` 的训练错误率。训练误差往往会低估模型在真实世界中的表现。为了更准确地评估模型，我们可以在部分数据上拟合模型，并在留出的数据（如 `2005` 年的观测数据）上测试。这种方法能更真实地衡量模型未来的预测准确性。"
   ]
  },
  {
   "cell_type": "code",
   "execution_count": 159,
   "id": "ab3ed616-2e66-4f16-a747-d43d039e887c",
   "metadata": {},
   "outputs": [
    {
     "name": "stdout",
     "output_type": "stream",
     "text": [
      "(252, 9)\n"
     ]
    }
   ],
   "source": [
    "train = stock_market_data.Year < 2005\n",
    "stock_market_train = stock_market_data.loc[train]\n",
    "stock_market_test = stock_market_data.loc[~train]\n",
    "print(stock_market_test.shape)\n",
    "test_len = stock_market_test.shape[0]"
   ]
  },
  {
   "cell_type": "markdown",
   "id": "61f6eb8d-c8c1-4b3b-9e96-1dac917ba538",
   "metadata": {},
   "source": [
    "我们现在在 `2005` 年之前的数据上拟合逻辑回归模型，并使用该模型预测 `2005` 测试集中的股市上涨概率。"
   ]
  },
  {
   "cell_type": "code",
   "execution_count": 160,
   "id": "cb60e40b-2554-4c6e-8bd0-239045a5517e",
   "metadata": {},
   "outputs": [],
   "source": [
    "x_train, x_test = x.loc[train], x.loc[~train]\n",
    "y_train, y_test = y.loc[train], y.loc[~train]\n",
    "glm_train = sm.GLM(y_train, x_train, family=sm.families.Binomial())\n",
    "results = glm_train.fit()\n",
    "probs = results.predict(exog=x_test)"
   ]
  },
  {
   "cell_type": "markdown",
   "id": "1da23d93-b316-4da5-9597-3c4b418e6e8c",
   "metadata": {},
   "source": [
    "我们已经在两个不同的数据集上对模型进行了训练和测试：训练集仅包含 `2005` 年之前的日期，而测试集仅包含 `2005` 年的观测数据。最后，我们将 `2005` 年的预测结果与该期间的实际市场走势进行比较。首先，我们将存储测试和训练标签（注意 `y_test` 是二元的）。"
   ]
  },
  {
   "cell_type": "code",
   "execution_count": 161,
   "id": "fd9fbb81-3cf6-4304-90bc-4583cbfadd77",
   "metadata": {},
   "outputs": [],
   "source": [
    "directions = stock_market_data.Direction\n",
    "directions_train, directions_test = directions.loc[train], directions.loc[~train]"
   ]
  },
  {
   "cell_type": "code",
   "execution_count": 162,
   "id": "87018a95-f8c9-4cef-9b52-e10c42ba066b",
   "metadata": {},
   "outputs": [
    {
     "data": {
      "text/html": [
       "<div>\n",
       "<style scoped>\n",
       "    .dataframe tbody tr th:only-of-type {\n",
       "        vertical-align: middle;\n",
       "    }\n",
       "\n",
       "    .dataframe tbody tr th {\n",
       "        vertical-align: top;\n",
       "    }\n",
       "\n",
       "    .dataframe thead th {\n",
       "        text-align: right;\n",
       "    }\n",
       "</style>\n",
       "<table border=\"1\" class=\"dataframe\">\n",
       "  <thead>\n",
       "    <tr style=\"text-align: right;\">\n",
       "      <th>Truth</th>\n",
       "      <th>Down</th>\n",
       "      <th>Up</th>\n",
       "    </tr>\n",
       "    <tr>\n",
       "      <th>Predicted</th>\n",
       "      <th></th>\n",
       "      <th></th>\n",
       "    </tr>\n",
       "  </thead>\n",
       "  <tbody>\n",
       "    <tr>\n",
       "      <th>Down</th>\n",
       "      <td>77</td>\n",
       "      <td>97</td>\n",
       "    </tr>\n",
       "    <tr>\n",
       "      <th>Up</th>\n",
       "      <td>34</td>\n",
       "      <td>44</td>\n",
       "    </tr>\n",
       "  </tbody>\n",
       "</table>\n",
       "</div>"
      ],
      "text/plain": [
       "Truth      Down  Up\n",
       "Predicted          \n",
       "Down         77  97\n",
       "Up           34  44"
      ]
     },
     "execution_count": 162,
     "metadata": {},
     "output_type": "execute_result"
    }
   ],
   "source": [
    "labels = np.array([\"Down\"] * test_len)\n",
    "labels[probs > 0.5] = \"Up\"\n",
    "confusion_table(labels, directions_test)"
   ]
  },
  {
   "cell_type": "code",
   "execution_count": 163,
   "id": "23591465-2854-48f3-bb4d-363507711f48",
   "metadata": {},
   "outputs": [
    {
     "name": "stdout",
     "output_type": "stream",
     "text": [
      "test accuracy = 0.48 %\n",
      "error rate = 0.52 %\n"
     ]
    }
   ],
   "source": [
    "print(\n",
    "    f\"test accuracy = {np.mean(labels == directions_test):.3} %\\n\"\n",
    "    f\"error rate = {np.mean(labels != directions_test):.3} %\"\n",
    ")"
   ]
  },
  {
   "cell_type": "code",
   "execution_count": 164,
   "id": "d1de5cff-1587-4b34-bbe5-13c656757498",
   "metadata": {},
   "outputs": [
    {
     "name": "stdout",
     "output_type": "stream",
     "text": [
      "[       inf 0.52821955 0.52121466 0.51889558 0.51683637 0.51665778\n",
      " 0.51566877 0.51202188 0.51132798 0.50956797 0.508446   0.50835531\n",
      " 0.50807231 0.50786024 0.50757365 0.50660137 0.50604836 0.50578871\n",
      " 0.50566986 0.50531336 0.50529498 0.50518787 0.50505516 0.50468519\n",
      " 0.50426983 0.50422715 0.5040112  0.50354061 0.50277035 0.50249513\n",
      " 0.50221601 0.5019997  0.50156948 0.50152497 0.50126923 0.50023765\n",
      " 0.50018783 0.50004706 0.49982856 0.49942866 0.49921293 0.49919101\n",
      " 0.49896204 0.49894567 0.49833448 0.49814402 0.49781485 0.49717326\n",
      " 0.4971474  0.49676599 0.49671242 0.49606301 0.49583069 0.49472492\n",
      " 0.49461462 0.49408024 0.49400476 0.49399758 0.49383793 0.49372402\n",
      " 0.4935757  0.49341517 0.49321042 0.49251726 0.49199293 0.49151809\n",
      " 0.49125768 0.49106893 0.48987588 0.48980104 0.48963306 0.48958355\n",
      " 0.48843384 0.48818721 0.48806083 0.48774809 0.48763474 0.48758656\n",
      " 0.4873724  0.48623326 0.48585567 0.48581824 0.48549859 0.48397481\n",
      " 0.48395853 0.48389011 0.48381536 0.48322119 0.48159807 0.48150925\n",
      " 0.48084924 0.48062142 0.48048287 0.48001945 0.47974078 0.47897552\n",
      " 0.47889984 0.47850545 0.47713269 0.47649324 0.47500344 0.47442515\n",
      " 0.47373317 0.47277066 0.47145439 0.47140711 0.4707835  0.47044205\n",
      " 0.46994494 0.46912749 0.46759372 0.46260007 0.46248313 0.46110934\n",
      " 0.46030755 0.45058518 0.44243083]\n",
      "(117,)\n"
     ]
    },
    {
     "data": {
      "image/png": "[encoded data removed]",
      "text/plain": [
       "<Figure size 800x600 with 1 Axes>"
      ]
     },
     "metadata": {},
     "output_type": "display_data"
    }
   ],
   "source": [
    "fpr, tpr, thresholds = roc_curve(y_test, probs)\n",
    "print(thresholds)\n",
    "print(thresholds.shape)\n",
    "# Compute the AUC (Area Under the Curve)\n",
    "auc = roc_auc_score(y_test, probs)\n",
    "\n",
    "# Plot the ROC curve\n",
    "plt.figure(figsize=(8, 6))\n",
    "plt.plot(fpr, tpr, color=\"blue\", label=f\"ROC curve (AUC = {auc:.2f})\")\n",
    "plt.plot(\n",
    "    [0, 1], [0, 1], color=\"red\", linestyle=\"--\"\n",
    ")  # Diagonal line for random guessing\n",
    "plt.xlim([0.0, 1.0])\n",
    "plt.ylim([0.0, 1.05])\n",
    "plt.xlabel(\"False Positive Rate\")\n",
    "plt.ylabel(\"True Positive Rate\")\n",
    "plt.title(\"Receiver Operating Characteristic (ROC) Curve\")\n",
    "plt.legend(loc=\"lower right\")\n",
    "plt.grid()"
   ]
  },
  {
   "cell_type": "markdown",
   "id": "c2b88f37-f603-40fe-9cbb-df161c790afa",
   "metadata": {},
   "source": [
    "如果我们希望基于特定的 `Lag1` 和 `Lag2` 值来预测市场回报，可以使用 `predict()` 函数。具体来说，我们将预测以下情境中的 `Direction`：\n",
    "\n",
    "1. 当 `Lag1` 为 `1.2` 且 `Lag2` 为 `1.1` 时。\n",
    "2. 当 `Lag1` 为 `1.5` 且 `Lag2` 为 `-0.8` 时。\n",
    "\n",
    "通过将这些值传递给 `predict()` 函数，我们可以获得在这些日期的 `Direction` 的相应预测结果。"
   ]
  },
  {
   "cell_type": "code",
   "execution_count": 165,
   "id": "fafe546a-729c-4c05-bc3c-fefd988bf1b4",
   "metadata": {},
   "outputs": [],
   "source": [
    "new_data = pd.DataFrame(\n",
    "    {\n",
    "        \"Lag1\": [1.2, 1.5],\n",
    "        \"Lag2\": [1.1, -0.8],\n",
    "    }\n",
    ")\n",
    "# new_x = glm.transform(new_data)\n",
    "# results.predict(new_x)"
   ]
  }
 ],
 "metadata": {
  "kernelspec": {
   "display_name": ".venv",
   "language": "python",
   "name": "python3"
  },
  "language_info": {
   "codemirror_mode": {
    "name": "ipython",
    "version": 3
   },
   "file_extension": ".py",
   "mimetype": "text/x-python",
   "name": "python",
   "nbconvert_exporter": "python",
   "pygments_lexer": "ipython3",
   "version": "3.11.10"
  }
 },
 "nbformat": 4,
 "nbformat_minor": 5
}
