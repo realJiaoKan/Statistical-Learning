{
 "cells": [
  {
   "cell_type": "code",
   "execution_count": 12,
   "metadata": {},
   "outputs": [],
   "source": [
    "import numpy as np\n",
    "import pandas as pd\n",
    "import matplotlib.pyplot as plt\n",
    "import statsmodels.api\n",
    "import ISLP.models\n",
    "import scipy.stats"
   ]
  },
  {
   "cell_type": "markdown",
   "metadata": {},
   "source": [
    "# 使用协方差进行线性回归\n",
    "\n",
    "## 概述\n",
    "\n",
    "本 Jupyter Notebook 将深入探讨如何使用协方差矩阵进行线性回归。通过本节内容，您将学会如何通过协方差和方差计算来实现线性回归。具体而言，您将会：\n",
    "\n",
    "- 理解并使用协方差矩阵：\n",
    "通过计算 `lstat` 和 `medv` 变量之间的协方差，以及 `lstat` 的方差，得出回归线的斜率和截距。\n",
    "\n",
    "- 通过协方差方法推导预测值（`y_hat_cov`）\n",
    "\n",
    "- 可视化和对比结果：\n",
    "将数据点与通过设计矩阵方法和协方差方法获得的回归线一同绘制。\n",
    "对比结果以展示两种方法得到相同的回归线。"
   ]
  },
  {
   "cell_type": "markdown",
   "metadata": {},
   "source": [
    "## 加载数据\n",
    "\n",
    "和之前一样，我们将使用 “Boston” 示例数据集。"
   ]
  },
  {
   "cell_type": "code",
   "execution_count": 13,
   "metadata": {},
   "outputs": [],
   "source": [
    "data_boston = ISLP.load_data(\"Boston\")"
   ]
  },
  {
   "cell_type": "markdown",
   "metadata": {},
   "source": [
    "## 总结：使用设计矩阵进行线性回归\n",
    "\n",
    "线性回归模型用于描述因变量（`medv`）与一个或多个自变量（如 `lstat`）之间的关系。该关系使用设计矩阵 \\($X$\\) 表示，其中包含所有自变量和一个截距项。对于一个简单的线性回归模型（仅一个自变量 `lstat`），设计矩阵可以构建如下：\n",
    "\n",
    "$$\n",
    "X = \\begin{bmatrix}\n",
    "1 & x_{1} \\\\\n",
    "1 & x_{2} \\\\\n",
    "\\vdots & \\vdots \\\\\n",
    "1 & x_{n} \\\\\n",
    "\\end{bmatrix}\n",
    "$$"
   ]
  },
  {
   "cell_type": "code",
   "execution_count": null,
   "metadata": {},
   "outputs": [],
   "source": [
    "lstat = data_boston[\"lstat\"]\n",
    "x_matrix = pd.DataFrame({\"intercept\": np.ones(lstat.shape[0]), \"lstat\": lstat})"
   ]
  },
  {
   "cell_type": "markdown",
   "metadata": {
    "collapsed": false,
    "jupyter": {
     "outputs_hidden": false
    }
   },
   "source": [
    "线性回归模型可以用矩阵形式表示为：\n",
    "\n",
    "$$\\mathbf{y} = X \\mathbf{\\beta} + \\mathbf{\\epsilon} $$"
   ]
  },
  {
   "cell_type": "code",
   "execution_count": null,
   "metadata": {},
   "outputs": [],
   "source": [
    "medv = data_boston[\"medv\"]\n",
    "\n",
    "y = medv\n",
    "model = statsmodels.api.OLS(y, x_matrix)"
   ]
  },
  {
   "cell_type": "markdown",
   "metadata": {},
   "source": [
    "系数 \\($\\mathbf{\\beta}$\\) 使用普通最小二乘法（OLS）进行估计，OLS 方法通过最小化残差平方和来求解。OLS 估计器的公式为：\n",
    "\n",
    "$$\\mathbf{\\hat{\\beta}} = (X^T X)^{-1} X^T \\mathbf{y} $$\n",
    "\n",
    "利用估计得到的系数 \\($\\mathbf{\\hat{\\beta}}$\\)，可以对新数据点进行预测：\n",
    "\n",
    "$$\\mathbf{\\hat{y}} = X \\mathbf{\\hat{\\beta}} $$\n",
    "\n",
    "其中，\\($\\mathbf{\\hat{y}}$\\) 是 `medv` 的预测值向量。"
   ]
  },
  {
   "cell_type": "code",
   "execution_count": 16,
   "metadata": {},
   "outputs": [],
   "source": [
    "results = model.fit()\n",
    "beta_hat = results.params\n",
    "y_hat = x_matrix @ beta_hat"
   ]
  },
  {
   "cell_type": "markdown",
   "metadata": {},
   "source": [
    "# 协方差方法\n",
    "\n",
    "另外，对于具有一个自变量的简单线性回归，\\($\\mathbf{\\hat{\\beta}}$\\) 也可以通过协方差和方差计算得出：\n",
    "\n",
    "- **斜率 \\($\\hat{\\beta}_1$\\)**:\n",
    "  $$\n",
    "  \\hat{\\beta}_1 = \\frac{\\text{Cov}(X, y)}{\\text{Var}(X)}\n",
    "  $$\n",
    "  其中：\n",
    "  - \\($\\text{Cov}(X, y)$\\) 是自变量 \\($X$\\)（即 `lstat`）和因变量 \\($y$\\)（即 `medv`）之间的协方差。\n",
    "  - \\($\\text{Var}(X)$\\) 是自变量 \\($X$\\) 的方差。\n",
    "\n",
    "- **截距 \\($\\hat{\\beta}_0$\\)**:\n",
    "  \n",
    "  $$\n",
    "  \\hat{\\beta}_0 = \\bar{y} - \\hat{\\beta}_1 \\bar{X}\n",
    "  $$\n",
    "\n",
    "  其中：\n",
    "  - \\($\\bar{y}$\\) 是因变量 \\($y$\\) 的平均值。\n",
    "  - \\($\\bar{X}$\\) 是自变量 \\($X$\\) 的平均值。\n",
    "\n",
    "### 实现\n",
    "我们使用 Numpy 库来计算协方差矩阵："
   ]
  },
  {
   "cell_type": "code",
   "execution_count": 17,
   "metadata": {},
   "outputs": [],
   "source": [
    "covariance = np.cov(lstat, medv, ddof=0)"
   ]
  },
  {
   "cell_type": "markdown",
   "metadata": {},
   "source": [
    "#### 自由度 (`ddof`) 在方差和协方差计算中的说明\n",
    "\n",
    "在统计计算中，`ddof`（\"delta degrees of freedom\"）表示“自由度偏差”，它是 `numpy.cov` 和 `numpy.var` 等函数中的一个参数，用于调整方差和协方差计算中的分母（通过减少自由度来实现）。\n",
    "\n",
    "#### 自由度 (`ddof`)\n",
    "\n",
    "- **`ddof=0`**：  \n",
    "  - 用于 **总体统计**。\n",
    "  - **方差**：假设您在计算总体方差，因此不对样本偏差进行修正。\n",
    "  - **协方差**：假设数据覆盖整个总体，因此不需要进行偏差修正。\n",
    "\n",
    "- **`ddof=1`**：  \n",
    "  - 用于 **样本统计**。\n",
    "  - **方差**：在使用总体的样本来估计方差时进行偏差修正，这种调整称为贝塞尔修正（Bessel's correction）。\n",
    "  - **协方差**：在使用总体的样本来估计协方差时进行偏差修正。\n",
    "\n",
    "#### 方差计算\n",
    "\n",
    "- **总体方差**（使用 `ddof=0`）：\n",
    "  $$\n",
    "  \\text{Var}(X) = \\frac{1}{n} \\sum_{i=1}^{n} (x_i - \\bar{x})^2\n",
    "  $$\n",
    "\n",
    "- **样本方差**（使用 `ddof=1`）：\n",
    "  $$\n",
    "  \\text{Var}(X) = \\frac{1}{n-1} \\sum_{i=1}^{n} (x_i - \\bar{x})^2\n",
    "  $$\n",
    "\n",
    "#### 协方差计算\n",
    "\n",
    "- **总体协方差**（使用 `ddof=0`）：\n",
    "  $$\n",
    "  \\text{Cov}(X, Y) = \\frac{1}{n} \\sum_{i=1}^{n} (x_i - \\bar{x})(y_i - \\bar{y})\n",
    "  $$\n",
    "\n",
    "- **样本协方差**（使用 `ddof=1`）：\n",
    "  $$\n",
    "  \\text{Cov}(X, Y) = \\frac{1}{n-1} \\sum_{i=1}^{n} (x_i - \\bar{x})(y_i - \\bar{y})\n",
    "  $$"
   ]
  },
  {
   "cell_type": "markdown",
   "metadata": {},
   "source": [
    "### 结论\n",
    "\n",
    "由于我们在计算中使用的是整体数据，因此选择 `ddof=0`，假设不需要偏差修正。\n",
    "\n",
    "#### 协方差矩阵\n",
    "\n",
    "**协方差矩阵** 是多变量统计中的关键概念，用于描述数据集中变量对之间的协方差。对于具有多个变量的数据集，协方差矩阵是一个方阵，每个元素表示一对变量之间的协方差关系：\n",
    "\n",
    "$$\n",
    "\\text{Cov}(X) = \\begin{bmatrix}\n",
    "\\text{Var}(X_1) & \\text{Cov}(X_1, X_2) & \\cdots & \\text{Cov}(X_1, X_p) \\\\\n",
    "\\text{Cov}(X_2, X_1) & \\text{Var}(X_2) & \\cdots & \\text{Cov}(X_2, X_p) \\\\\n",
    "\\vdots & \\vdots & \\ddots & \\vdots \\\\\n",
    "\\text{Cov}(X_p, X_1) & \\text{Cov}(X_p, X_2) & \\cdots & \\text{Var}(X_p)\n",
    "\\end{bmatrix}\n",
    "$$\n",
    "\n",
    "其中：\n",
    "- \\($\\text{Var}(X_i)$\\) 表示变量 \\($X_i$\\) 的方差，相当于 \\($\\text{Cov}(X_i, X_i)$\\)。\n",
    "- \\($\\text{Cov}(X_i, X_j)$\\) 表示变量 \\($X_i$\\) 和 \\($X_j$\\) 之间的协方差。\n",
    "\n",
    "协方差矩阵对理解多个变量之间的关系非常有用，可以帮助判断变量是如何一起变化的，这也是主成分分析（Principal Component Analysis, PCA）等技术的基础。\n",
    "\n",
    "我们感兴趣的是协方差矩阵中 `lstat`（索引 $0$，对应第一行）与 `medv`（索引 $1$，对应第二列）之间的协方差："
   ]
  },
  {
   "cell_type": "code",
   "execution_count": 18,
   "metadata": {},
   "outputs": [],
   "source": [
    "cov_lstat_medv = covariance[0, 1]"
   ]
  },
  {
   "cell_type": "markdown",
   "metadata": {},
   "source": [
    "因此，`lstat` 的方差为："
   ]
  },
  {
   "cell_type": "code",
   "execution_count": 19,
   "metadata": {},
   "outputs": [],
   "source": [
    "var_lstat = covariance[0, 0]"
   ]
  },
  {
   "cell_type": "markdown",
   "metadata": {},
   "source": [
    "现在，我们可以计算斜率 \\($\\beta_1$\\) 和截距 \\($\\beta_0$\\)"
   ]
  },
  {
   "cell_type": "code",
   "execution_count": 20,
   "metadata": {},
   "outputs": [],
   "source": [
    "beta1 = cov_lstat_medv / var_lstat\n",
    "\n",
    "mean_lstat = np.mean(lstat)\n",
    "mean_medv = np.mean(medv)\n",
    "beta0 = mean_medv - beta1 * mean_lstat"
   ]
  },
  {
   "cell_type": "markdown",
   "metadata": {},
   "source": [
    "使用协方差方法计算得到的 \\($\\hat{y}_{\\text{cov}}$\\) 为："
   ]
  },
  {
   "cell_type": "code",
   "execution_count": 21,
   "metadata": {},
   "outputs": [],
   "source": [
    "y_hat_cov = beta0 + beta1 * lstat"
   ]
  },
  {
   "cell_type": "markdown",
   "metadata": {},
   "source": [
    "我们将使用蓝色虚线绘制 \\($\\hat{y}_{\\text{cov}}$\\) 并叠加在 \\($\\hat{y}$\\) 上，以展示它们的结果相同："
   ]
  },
  {
   "cell_type": "code",
   "execution_count": null,
   "metadata": {},
   "outputs": [
    {
     "data": {
      "image/png": "[encoded data removed]",
      "text/plain": [
       "<Figure size 640x480 with 1 Axes>"
      ]
     },
     "metadata": {},
     "output_type": "display_data"
    }
   ],
   "source": [
    "plt.scatter(\n",
    "    lstat,\n",
    "    medv,\n",
    "    s=3,\n",
    "    label=\"Data points\",\n",
    ")\n",
    "\n",
    "plt.plot(\n",
    "    lstat,\n",
    "    y_hat,\n",
    "    \"r\",\n",
    "    label=\"linear regression\",\n",
    ")\n",
    "plt.plot(\n",
    "    lstat,\n",
    "    y_hat_cov,\n",
    "    \"b:\",\n",
    "    label=\"linear regression (Covariant method)\",\n",
    ")\n",
    "plt.xlabel(\"Lower Socio-economic Status (%)\")\n",
    "plt.ylabel(\"Median Value of Homes ($1000s)\")\n",
    "plt.title(\"Relationship between LSTAT and MEDV\")\n",
    "plt.legend()\n",
    "plt.show()"
   ]
  },
  {
   "cell_type": "markdown",
   "metadata": {},
   "source": [
    "在本次讲解中，我们仅使用了协方差矩阵中的两个元素。请思考矩阵中的其他元素代表什么，以及它们提供了哪些信息。"
   ]
  }
 ],
 "metadata": {
  "kernelspec": {
   "display_name": ".venv",
   "language": "python",
   "name": "python3"
  },
  "language_info": {
   "codemirror_mode": {
    "name": "ipython",
    "version": 3
   },
   "file_extension": ".py",
   "mimetype": "text/x-python",
   "name": "python",
   "nbconvert_exporter": "python",
   "pygments_lexer": "ipython3",
   "version": "3.11.10"
  }
 },
 "nbformat": 4,
 "nbformat_minor": 4
}
